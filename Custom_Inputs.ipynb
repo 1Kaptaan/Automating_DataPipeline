{
 "cells": [
  {
   "cell_type": "markdown",
   "metadata": {},
   "source": [
    "## The function will help us set custom names and dtypes for our DataFrame Columns.\n",
    "### This allows users to input the required names and data types."
   ]
  },
  {
   "cell_type": "code",
   "execution_count": null,
   "metadata": {},
   "outputs": [],
   "source": [
    "#Custom Renaming and Dtype change using Inputs\n",
    "\n",
    "def cols_name1(df):\n",
    "    \n",
    "    DType = [input(str('Enter 1st Column dtype: ')),input(str('Enter 2nd Column dtype: ')),\n",
    "             input(str('Enter 3rd Column dtype: ')),input(str('Enter 4th Column dtype: ')),\n",
    "             input(str('Enter 5th Column dtype: ')),input(str('Enter 6th Column dtype: ')),\n",
    "             input(str('Enter 7th Column dtype: '))]\n",
    "    \n",
    "    columns = [input(str('Enter 1st Column name: ')),input(str('Enter 2nd Column name: ')),\n",
    "               input(str('Enter 3rd Column name: ')),input(str('Enter 4th Column name: ')),\n",
    "               input(str('Enter 5th Column name: ')),input(str('Enter 6th Column name: ')),\n",
    "               input(str('Enter 7th Column name: '))]\n",
    "    \n",
    "    new_cols = {df.columns[0]:columns[0],df.columns[1]:columns[1],df.columns[2]:columns[2],\n",
    "                df.columns[3]:columns[3],df.columns[4]:columns[4],df.columns[5]:columns[5],\n",
    "                df.columns[6]:columns[6]}\n",
    "    \n",
    "    new_type = {df.columns[0]:DType[0],df.columns[1]:DType[1],df.columns[2]:DType[2],\n",
    "                df.columns[3]:DType[3],df.columns[4]:DType[4],df.columns[5]:DType[5],\n",
    "                df.columns[6]:DType[6]}\n",
    "    \n",
    "    for cols in df:\n",
    "        df = df.rename(columns = new_cols)\n",
    "        df = df.astype(new_type)\n",
    "        \n",
    "    return df"
   ]
  }
 ],
 "metadata": {
  "kernelspec": {
   "display_name": "Python 3",
   "language": "python",
   "name": "python3"
  },
  "language_info": {
   "codemirror_mode": {
    "name": "ipython",
    "version": 3
   },
   "file_extension": ".py",
   "mimetype": "text/x-python",
   "name": "python",
   "nbconvert_exporter": "python",
   "pygments_lexer": "ipython3",
   "version": "3.7.6"
  }
 },
 "nbformat": 4,
 "nbformat_minor": 4
}
