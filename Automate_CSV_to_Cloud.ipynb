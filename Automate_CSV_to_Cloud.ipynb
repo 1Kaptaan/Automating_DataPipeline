{
 "cells": [
  {
   "cell_type": "markdown",
   "metadata": {},
   "source": [
    "### Importing important Libraries"
   ]
  },
  {
   "cell_type": "code",
   "execution_count": 1,
   "metadata": {},
   "outputs": [],
   "source": [
    "import pandas as pd\n",
    "import pymysql as sql\n",
    "import numpy as np"
   ]
  },
  {
   "cell_type": "markdown",
   "metadata": {},
   "source": [
    "### Connecting to the cloud and checking connection.."
   ]
  },
  {
   "cell_type": "code",
   "execution_count": 2,
   "metadata": {},
   "outputs": [],
   "source": [
    "## Connecting to the AWS Database\n",
    "\n",
    "host_name = \"#############\"\n",
    "dbname = '#############'\n",
    "port = 3306\n",
    "username = '#############'\n",
    "password = '#############'\n",
    "\n",
    "conn = sql.connect(user=username, password=password, host=host_name,database=dbname,port=port)\n",
    "curr = conn.cursor()"
   ]
  },
  {
   "cell_type": "code",
   "execution_count": 3,
   "metadata": {},
   "outputs": [
    {
     "data": {
      "text/plain": [
       "(('6ilZeMFyNE8',\n",
       "  'LN+ EN VIVO las 24 horas',\n",
       "  '0000-00-00',\n",
       "  9714535,\n",
       "  25110,\n",
       "  3463,\n",
       "  0),\n",
       " ('F2yswKCPGoI',\n",
       "  'Jimmy Kimmel Has Had Enough of Scumbags Attacking Dr. Fauci for Trying to Keep Us Alive',\n",
       "  '0000-00-00',\n",
       "  1197109,\n",
       "  35000,\n",
       "  2309,\n",
       "  4126))"
      ]
     },
     "execution_count": 3,
     "metadata": {},
     "output_type": "execute_result"
    }
   ],
   "source": [
    "curr.execute(\"\"\"SELECT * FROM videos;\"\"\")\n",
    "curr.fetchall()"
   ]
  },
  {
   "cell_type": "markdown",
   "metadata": {},
   "source": [
    "### Importing the file that is to be uploaded to the cloud database..."
   ]
  },
  {
   "cell_type": "code",
   "execution_count": 4,
   "metadata": {},
   "outputs": [
    {
     "data": {
      "text/html": [
       "<div>\n",
       "<style scoped>\n",
       "    .dataframe tbody tr th:only-of-type {\n",
       "        vertical-align: middle;\n",
       "    }\n",
       "\n",
       "    .dataframe tbody tr th {\n",
       "        vertical-align: top;\n",
       "    }\n",
       "\n",
       "    .dataframe thead th {\n",
       "        text-align: right;\n",
       "    }\n",
       "</style>\n",
       "<table border=\"1\" class=\"dataframe\">\n",
       "  <thead>\n",
       "    <tr style=\"text-align: right;\">\n",
       "      <th></th>\n",
       "      <th>Email</th>\n",
       "      <th>Address</th>\n",
       "      <th>Avg Session Length</th>\n",
       "      <th>Time on App</th>\n",
       "      <th>Time on Website</th>\n",
       "      <th>Length of Membership</th>\n",
       "      <th>Yearly Amount Spent</th>\n",
       "    </tr>\n",
       "  </thead>\n",
       "  <tbody>\n",
       "    <tr>\n",
       "      <th>0</th>\n",
       "      <td>mstephenson@fernandez.com</td>\n",
       "      <td>835 Frank TunnelWrightmouth, MI 82180-9605</td>\n",
       "      <td>34.497268</td>\n",
       "      <td>12.655651</td>\n",
       "      <td>39.577668</td>\n",
       "      <td>4.082621</td>\n",
       "      <td>587.951054</td>\n",
       "    </tr>\n",
       "    <tr>\n",
       "      <th>1</th>\n",
       "      <td>hduke@hotmail.com</td>\n",
       "      <td>4547 Archer CommonDiazchester, CA 06566-8576</td>\n",
       "      <td>31.926272</td>\n",
       "      <td>11.109461</td>\n",
       "      <td>37.268959</td>\n",
       "      <td>2.664034</td>\n",
       "      <td>392.204933</td>\n",
       "    </tr>\n",
       "    <tr>\n",
       "      <th>2</th>\n",
       "      <td>pallen@yahoo.com</td>\n",
       "      <td>24645 Valerie Unions Suite 582Cobbborough, DC ...</td>\n",
       "      <td>33.000915</td>\n",
       "      <td>11.330278</td>\n",
       "      <td>37.110597</td>\n",
       "      <td>4.104543</td>\n",
       "      <td>487.547505</td>\n",
       "    </tr>\n",
       "  </tbody>\n",
       "</table>\n",
       "</div>"
      ],
      "text/plain": [
       "                       Email  \\\n",
       "0  mstephenson@fernandez.com   \n",
       "1          hduke@hotmail.com   \n",
       "2           pallen@yahoo.com   \n",
       "\n",
       "                                             Address  Avg Session Length  \\\n",
       "0         835 Frank TunnelWrightmouth, MI 82180-9605           34.497268   \n",
       "1       4547 Archer CommonDiazchester, CA 06566-8576           31.926272   \n",
       "2  24645 Valerie Unions Suite 582Cobbborough, DC ...           33.000915   \n",
       "\n",
       "   Time on App  Time on Website  Length of Membership  Yearly Amount Spent  \n",
       "0    12.655651        39.577668              4.082621           587.951054  \n",
       "1    11.109461        37.268959              2.664034           392.204933  \n",
       "2    11.330278        37.110597              4.104543           487.547505  "
      ]
     },
     "execution_count": 4,
     "metadata": {},
     "output_type": "execute_result"
    }
   ],
   "source": [
    "df=pd.read_csv(\"/Users/1kaptaan/Downloads/ML_Practice/Ecommerce_Customers.csv\")\n",
    "df.head(3)"
   ]
  },
  {
   "cell_type": "markdown",
   "metadata": {},
   "source": [
    "### Create a table in the cloud database to store all the values from our file..."
   ]
  },
  {
   "cell_type": "code",
   "execution_count": 5,
   "metadata": {},
   "outputs": [
    {
     "data": {
      "text/plain": [
       "0"
      ]
     },
     "execution_count": 5,
     "metadata": {},
     "output_type": "execute_result"
    }
   ],
   "source": [
    "curr.execute(\"\"\"DROP TABLE ecom_customer\"\"\")"
   ]
  },
  {
   "cell_type": "code",
   "execution_count": 6,
   "metadata": {},
   "outputs": [
    {
     "data": {
      "text/plain": [
       "0"
      ]
     },
     "execution_count": 6,
     "metadata": {},
     "output_type": "execute_result"
    }
   ],
   "source": [
    "# Create a table in the AWS database to store all the data...\n",
    "\n",
    "curr.execute(\"\"\"CREATE TABLE IF NOT EXISTS ecom_customer(\n",
    "                Email TEXT NOT NULL,\n",
    "                Address TEXT NOT NULL,\n",
    "                Avg_Session_Length FLOAT NOT NULL,\n",
    "                Time_on_App FLOAT NOT NULL,\n",
    "                Time_on_Website FLOAT NOT NULL,\n",
    "                Length_of_Membership FLOAT NOT NULL,\n",
    "                Yearly_Amount_Spent FLOAT NOT NULL\n",
    "                )\"\"\")"
   ]
  },
  {
   "cell_type": "code",
   "execution_count": 7,
   "metadata": {},
   "outputs": [
    {
     "data": {
      "text/plain": [
       "()"
      ]
     },
     "execution_count": 7,
     "metadata": {},
     "output_type": "execute_result"
    }
   ],
   "source": [
    "curr.execute(\"\"\"SELECT * FROM ecom_customer\"\"\")\n",
    "curr.fetchall()"
   ]
  },
  {
   "cell_type": "markdown",
   "metadata": {},
   "source": [
    "### Create a function to automate changing column name and dtypes.."
   ]
  },
  {
   "cell_type": "code",
   "execution_count": 8,
   "metadata": {},
   "outputs": [],
   "source": [
    "# Changing column name and dtypes with one function...\n",
    "def change_col_dtypes(df):\n",
    "    replacement = {'Email':'string','Address':'string','Avg_Session_Length':'float','Time_on_App':'float',\n",
    "                   'Time_on_Website':'float','Length_of_Membership':'float','Yearly_Amount_Spent':'float'}\n",
    "    \n",
    "    col_replacement = {'Avg Session Length':'Avg_Session_Length','Time on App':'Time_on_App',\n",
    "                   'Time on Website':'Time_on_Website','Length of Membership':'Length_of_Membership',\n",
    "                  'Yearly Amount Spent':'Yearly_Amount_Spent'}\n",
    "    for col in df:\n",
    "        df = df.rename(columns= col_replacement)\n",
    "        df = df.astype(replacement)\n",
    "    return df"
   ]
  },
  {
   "cell_type": "code",
   "execution_count": 9,
   "metadata": {},
   "outputs": [],
   "source": [
    "df = change_col_dtypes(df)"
   ]
  },
  {
   "cell_type": "code",
   "execution_count": 10,
   "metadata": {},
   "outputs": [
    {
     "data": {
      "text/plain": [
       "Email                    string\n",
       "Address                  string\n",
       "Avg_Session_Length      float64\n",
       "Time_on_App             float64\n",
       "Time_on_Website         float64\n",
       "Length_of_Membership    float64\n",
       "Yearly_Amount_Spent     float64\n",
       "dtype: object"
      ]
     },
     "execution_count": 10,
     "metadata": {},
     "output_type": "execute_result"
    }
   ],
   "source": [
    "df.dtypes"
   ]
  },
  {
   "cell_type": "markdown",
   "metadata": {},
   "source": [
    "### We create different loops to check, update and insert a new entry to the cloud..."
   ]
  },
  {
   "cell_type": "code",
   "execution_count": 11,
   "metadata": {},
   "outputs": [],
   "source": [
    "def check_if_exist(curr,Email):\n",
    "    query = (\"\"\"SELECT Email FROM ecom_customer WHERE Email = %s\"\"\")\n",
    "    curr.execute(query,(Email))\n",
    "    return curr.fetchone() is not None"
   ]
  },
  {
   "cell_type": "code",
   "execution_count": 12,
   "metadata": {},
   "outputs": [],
   "source": [
    "def update(curr, Email, Address, Avg_Session_Length, Time_on_App, Time_on_Website, \n",
    "           Length_of_Membership, Yearly_Amount_Spent):\n",
    "    query = (\"\"\"UPDATE ecom_customer SET\n",
    "            Address = %s,\n",
    "            Avg_Session_Length = %s,\n",
    "            Time_on_App = %s,\n",
    "            Time_on_Website = %s,\n",
    "            Length_of_Membership = %s,\n",
    "            Yearly_Amount_Spent = %s\n",
    "            WHERE Email = %s\"\"\")\n",
    "    var_update=(Address, Avg_Session_Length, Time_on_App, Time_on_Website, Length_of_Membership,\n",
    "                Yearly_Amount_Spent, Email)\n",
    "    curr.execute(query,var_update)"
   ]
  },
  {
   "cell_type": "code",
   "execution_count": 13,
   "metadata": {},
   "outputs": [],
   "source": [
    "def df_update(curr,df):\n",
    "    update_df = pd.DataFrame(columns=['Email','Address','Avg_Session_Length','Time_on_App','Time_on_Website',\n",
    "                                  'Length_of_Membership','Yearly_Amount_Spent'])\n",
    "\n",
    "    for i, row in df.iterrows():\n",
    "        if check_if_exist(curr,row['Email']):\n",
    "            update(curr,row['Email'],row['Address'],row['Avg_Session_Length'],row['Time_on_App'],\n",
    "                   row['Time_on_Website'],row['Length_of_Membership'],row['Yearly_Amount_Spent'])\n",
    "        else:\n",
    "            update_df = update_df.append(row)\n",
    "    return update_df        "
   ]
  },
  {
   "cell_type": "code",
   "execution_count": 14,
   "metadata": {},
   "outputs": [],
   "source": [
    "updated_data = df_update(curr,df)"
   ]
  },
  {
   "cell_type": "markdown",
   "metadata": {},
   "source": [
    "### After extracting the update df we change the data types so that they match the table in cloud..."
   ]
  },
  {
   "cell_type": "markdown",
   "metadata": {},
   "source": [
    "### Now we define insert function to update entries in cloud database..."
   ]
  },
  {
   "cell_type": "code",
   "execution_count": 15,
   "metadata": {},
   "outputs": [],
   "source": [
    "def insert_db(curr,Email,Address,Avg_Session_Length,Time_on_App,Time_on_Website,\n",
    "                 Length_of_Membership,Yearly_Amount_Spent):\n",
    "    query = (\"\"\"INSERT INTO ecom_customer\n",
    "                (Email, Address, Avg_Session_Length, Time_on_App, Time_on_Website,\n",
    "                Length_of_Membership, Yearly_Amount_Spent)\n",
    "                VALUES(%s,%s,%s,%s,%s,%s,%s)\"\"\")\n",
    "    rows_update = (Email,Address,Avg_Session_Length,Time_on_App,Time_on_Website,\n",
    "                     Length_of_Membership,Yearly_Amount_Spent)\n",
    "    curr.execute(query,rows_update)"
   ]
  },
  {
   "cell_type": "code",
   "execution_count": 16,
   "metadata": {},
   "outputs": [],
   "source": [
    "def df_to_db(curr,df):\n",
    "    for i, row in df.iterrows():\n",
    "        insert_db(curr,row['Email'],row['Address'],row['Avg_Session_Length'],row['Time_on_App'],\n",
    "                  row['Time_on_Website'],row['Length_of_Membership'],row['Yearly_Amount_Spent'])"
   ]
  },
  {
   "cell_type": "code",
   "execution_count": 17,
   "metadata": {},
   "outputs": [],
   "source": [
    "df_to_db(curr, updated_data)"
   ]
  },
  {
   "cell_type": "code",
   "execution_count": 18,
   "metadata": {},
   "outputs": [],
   "source": [
    "conn.commit()"
   ]
  }
 ],
 "metadata": {
  "kernelspec": {
   "display_name": "Python 3",
   "language": "python",
   "name": "python3"
  },
  "language_info": {
   "codemirror_mode": {
    "name": "ipython",
    "version": 3
   },
   "file_extension": ".py",
   "mimetype": "text/x-python",
   "name": "python",
   "nbconvert_exporter": "python",
   "pygments_lexer": "ipython3",
   "version": "3.7.6"
  }
 },
 "nbformat": 4,
 "nbformat_minor": 4
}
